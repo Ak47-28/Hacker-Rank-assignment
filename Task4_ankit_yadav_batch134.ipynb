{
 "cells": [
  {
   "cell_type": "markdown",
   "id": "0b22c627",
   "metadata": {},
   "source": [
    "## Que.1 sWAP cASE"
   ]
  },
  {
   "cell_type": "code",
   "execution_count": 1,
   "id": "06c6a96d",
   "metadata": {},
   "outputs": [
    {
     "name": "stdout",
     "output_type": "stream",
     "text": [
      "HackerRank.com presents \"Pythonist 2\".\n",
      "hACKERrANK.COM PRESENTS \"pYTHONIST 2\".\n"
     ]
    }
   ],
   "source": [
    "def swap_case(s):\n",
    "    Output = ''\n",
    "    for char in s:\n",
    "        if(char.isupper()==True):\n",
    "            Output += (char.lower())\n",
    "        elif(char.islower()==True):\n",
    "            Output += (char.upper())\n",
    "        else:\n",
    "            Output += char\n",
    "    return Output\n",
    "\n",
    "if __name__ == '__main__':\n",
    "    s = input()\n",
    "    result = swap_case(s)\n",
    "    print(result)"
   ]
  },
  {
   "cell_type": "markdown",
   "id": "354b6380",
   "metadata": {},
   "source": [
    "## Que.2 String Split and Join"
   ]
  },
  {
   "cell_type": "code",
   "execution_count": 2,
   "id": "4fcc41e4",
   "metadata": {},
   "outputs": [
    {
     "name": "stdout",
     "output_type": "stream",
     "text": [
      "this is a string\n",
      "this-is-a-string\n"
     ]
    }
   ],
   "source": [
    "def split_and_join(line):\n",
    "    Output = line.split()\n",
    "    Output = \"-\".join(Output)\n",
    "    return Output\n",
    "if __name__ == '__main__':\n",
    "    line = input()\n",
    "    result = split_and_join(line)\n",
    "    print(result)"
   ]
  },
  {
   "cell_type": "markdown",
   "id": "ebe02317",
   "metadata": {},
   "source": [
    "## Que.3 What's Your Name?"
   ]
  },
  {
   "cell_type": "code",
   "execution_count": 4,
   "id": "9e5c7392",
   "metadata": {},
   "outputs": [
    {
     "name": "stdout",
     "output_type": "stream",
     "text": [
      "Ross\n",
      "Taylor\n",
      "Hello Ross Taylor! You just delved into python.\n"
     ]
    }
   ],
   "source": [
    "def print_full_name(first, last):\n",
    "    print(\"Hello \" + first, last + \"! You just delved into python.\")\n",
    "\n",
    "if __name__ == '__main__':\n",
    "    first_name = input()\n",
    "    last_name = input()\n",
    "    print_full_name(first_name, last_name)"
   ]
  },
  {
   "cell_type": "markdown",
   "id": "9d24fb02",
   "metadata": {},
   "source": [
    "## Que.4  Mutations"
   ]
  },
  {
   "cell_type": "code",
   "execution_count": 7,
   "id": "287e237c",
   "metadata": {},
   "outputs": [
    {
     "name": "stdout",
     "output_type": "stream",
     "text": [
      "abracadabra \n",
      "5 k  \n",
      "abrackdabra \n"
     ]
    }
   ],
   "source": [
    "def mutate_string(string, position, character):\n",
    "    '''Changes a character at a given index'''\n",
    "    return string[:position] + character + string[position + 1:]\n",
    "\n",
    "if __name__ == '__main__':\n",
    "    s = input()\n",
    "    i, c = input().split()\n",
    "    s_new = mutate_string(s, int(i), c)\n",
    "    print(s_new)"
   ]
  },
  {
   "cell_type": "markdown",
   "id": "61112e9b",
   "metadata": {},
   "source": [
    "## Que.5  Find a string"
   ]
  },
  {
   "cell_type": "code",
   "execution_count": 8,
   "id": "b43d300f",
   "metadata": {},
   "outputs": [
    {
     "name": "stdout",
     "output_type": "stream",
     "text": [
      "ABCDCDC\n",
      "CDC\n",
      "2\n"
     ]
    }
   ],
   "source": [
    "def count_substring(string, sub_string):\n",
    "    count = 0\n",
    "    for i in range(len(string)-len(sub_string)+1):\n",
    "        if (string[i:i+len(sub_string)] == sub_string):\n",
    "            count += 1\n",
    "    return count\n",
    "\n",
    "if __name__ == '__main__':\n",
    "    string = input().strip()\n",
    "    sub_string = input().strip()\n",
    "    \n",
    "    count = count_substring(string, sub_string)\n",
    "    print(count)"
   ]
  },
  {
   "cell_type": "markdown",
   "id": "88b67948",
   "metadata": {},
   "source": [
    "## Que.6  String Validators"
   ]
  },
  {
   "cell_type": "code",
   "execution_count": 9,
   "id": "36e60d10",
   "metadata": {},
   "outputs": [
    {
     "name": "stdout",
     "output_type": "stream",
     "text": [
      "qA2\n",
      "True\n",
      "True\n",
      "True\n",
      "True\n",
      "True\n"
     ]
    }
   ],
   "source": [
    "if __name__ == '__main__':\n",
    "    s = input()\n",
    "    print(any(a.isalnum() for a in s) )\n",
    "    print(any(a.isalpha() for a in s) )\n",
    "    print(any(a.isdigit() for a in s) )\n",
    "    print(any(a.islower() for a in s) )\n",
    "    print(any(a.isupper() for a in s) )"
   ]
  },
  {
   "cell_type": "markdown",
   "id": "ce1c9496",
   "metadata": {},
   "source": [
    "## Que.7  Text Alignment"
   ]
  },
  {
   "cell_type": "code",
   "execution_count": 10,
   "id": "170b8fe3",
   "metadata": {},
   "outputs": [
    {
     "name": "stdout",
     "output_type": "stream",
     "text": [
      "5\n",
      "    H    \n",
      "   HHH   \n",
      "  HHHHH  \n",
      " HHHHHHH \n",
      "HHHHHHHHH\n",
      "  HHHHH               HHHHH             \n",
      "  HHHHH               HHHHH             \n",
      "  HHHHH               HHHHH             \n",
      "  HHHHH               HHHHH             \n",
      "  HHHHH               HHHHH             \n",
      "  HHHHH               HHHHH             \n",
      "  HHHHHHHHHHHHHHHHHHHHHHHHH   \n",
      "  HHHHHHHHHHHHHHHHHHHHHHHHH   \n",
      "  HHHHHHHHHHHHHHHHHHHHHHHHH   \n",
      "  HHHHH               HHHHH             \n",
      "  HHHHH               HHHHH             \n",
      "  HHHHH               HHHHH             \n",
      "  HHHHH               HHHHH             \n",
      "  HHHHH               HHHHH             \n",
      "  HHHHH               HHHHH             \n",
      "                    HHHHHHHHH \n",
      "                     HHHHHHH  \n",
      "                      HHHHH   \n",
      "                       HHH    \n",
      "                        H     \n"
     ]
    }
   ],
   "source": [
    "#Replace all ______ with rjust, ljust or center. \n",
    "\n",
    "thickness = int(input()) #This must be an odd number\n",
    "c = 'H'\n",
    "\n",
    "#Top Cone\n",
    "for i in range(thickness):\n",
    "    print((c*i).rjust(thickness-1)+c+(c*i).ljust(thickness-1))\n",
    "\n",
    "#Top Pillars\n",
    "for i in range(thickness+1):\n",
    "    print((c*thickness).center(thickness*2)+(c*thickness).center(thickness*6))\n",
    "\n",
    "#Middle Belt\n",
    "for i in range((thickness+1)//2):\n",
    "    print((c*thickness*5).center(thickness*6))    \n",
    "\n",
    "#Bottom Pillars\n",
    "for i in range(thickness+1):\n",
    "    print((c*thickness).center(thickness*2)+(c*thickness).center(thickness*6))    \n",
    "\n",
    "#Bottom Cone\n",
    "for i in range(thickness):\n",
    "    print(((c*(thickness-i-1)).rjust(thickness)+c+(c*(thickness-i-1)).ljust(thickness)).rjust(thickness*6))"
   ]
  },
  {
   "cell_type": "markdown",
   "id": "90488df0",
   "metadata": {},
   "source": [
    "## Que.8  Text Wrap  "
   ]
  },
  {
   "cell_type": "code",
   "execution_count": 12,
   "id": "79349952",
   "metadata": {},
   "outputs": [
    {
     "name": "stdout",
     "output_type": "stream",
     "text": [
      "ABCDEFGHIJKLIMNOQRSTUVWXYZ\n",
      "4\n",
      "ABCD\n",
      "EFGH\n",
      "IJKL\n",
      "IMNO\n",
      "QRST\n",
      "UVWX\n",
      "YZ\n"
     ]
    }
   ],
   "source": [
    "import textwrap\n",
    "\n",
    "def wrap(string, max_width):\n",
    "    return textwrap.fill(string,max_width)\n",
    "\n",
    "if __name__ == '__main__':\n",
    "    string, max_width = input(), int(input())\n",
    "    result = wrap(string, max_width)\n",
    "    print(result)"
   ]
  },
  {
   "cell_type": "markdown",
   "id": "5b557943",
   "metadata": {},
   "source": [
    "## Que.9  Designer Door Mat"
   ]
  },
  {
   "cell_type": "code",
   "execution_count": 13,
   "id": "aab3da77",
   "metadata": {},
   "outputs": [
    {
     "name": "stdout",
     "output_type": "stream",
     "text": [
      "7 21\n",
      "---------.|.---------\n",
      "------.|..|..|.------\n",
      "---.|..|..|..|..|.---\n",
      "-------WELCOME-------\n",
      "---.|..|..|..|..|.---\n",
      "------.|..|..|.------\n",
      "---------.|.---------\n"
     ]
    }
   ],
   "source": [
    "N, M = map(int, input().split())\n",
    "for i in range(1, N, 2):\n",
    "    print(str('.|.' * i).center(M, '-'))\n",
    "print('WELCOME'.center(M, '-'))\n",
    "for i in range(N-2, -1, -2):\n",
    "    print(str('.|.' * i).center(M, '-'))"
   ]
  },
  {
   "cell_type": "markdown",
   "id": "277265df",
   "metadata": {},
   "source": [
    "## Que.10  String Formatting"
   ]
  },
  {
   "cell_type": "code",
   "execution_count": 14,
   "id": "45c39a62",
   "metadata": {},
   "outputs": [
    {
     "name": "stdout",
     "output_type": "stream",
     "text": [
      "2\n",
      " 1  1  1  1 \n",
      " 2  2  2 10 \n"
     ]
    }
   ],
   "source": [
    "def print_formatted(number):\n",
    "   l1 = len(bin(number)[2:])\n",
    "   for i in range(1,number+1):\n",
    "        print(str(i).rjust(l1,' '),end=\" \")\n",
    "        print(oct(i)[2:].rjust(l1,' '),end=\" \")\n",
    "        print(((hex(i)[2:]).upper()).rjust(l1,' '),end=\" \")\n",
    "        print(bin(i)[2:].rjust(l1,' '),end=\" \")\n",
    "        print(\"\")\n",
    "if __name__ == '__main__':\n",
    "    n = int(input())\n",
    "    print_formatted(n)"
   ]
  },
  {
   "cell_type": "markdown",
   "id": "7f26fc3c",
   "metadata": {},
   "source": [
    "## Que.11  Alphabet Rangoli"
   ]
  },
  {
   "cell_type": "code",
   "execution_count": 15,
   "id": "636f7dda",
   "metadata": {},
   "outputs": [
    {
     "name": "stdout",
     "output_type": "stream",
     "text": [
      "5\n",
      "--------e--------\n",
      "------e-d-e------\n",
      "----e-d-c-d-e----\n",
      "--e-d-c-b-c-d-e--\n",
      "e-d-c-b-a-b-c-d-e\n",
      "--e-d-c-b-c-d-e--\n",
      "----e-d-c-d-e----\n",
      "------e-d-e------\n",
      "--------e--------\n"
     ]
    }
   ],
   "source": [
    "def print_rangoli(size):\n",
    "    width  = size*4-3\n",
    "    string = ''\n",
    "\n",
    "    for i in range(1,size+1):\n",
    "        for j in range(0,i):\n",
    "            string += chr(96+size-j)\n",
    "            if len(string) < width :\n",
    "                string += '-'\n",
    "        for k in range(i-1,0,-1):    \n",
    "            string += chr(97+size-k)\n",
    "            if len(string) < width :\n",
    "                string += '-'\n",
    "        print(string.center(width,'-'))\n",
    "        string = ''\n",
    "\n",
    "    for i in range(size-1,0,-1):\n",
    "        string = ''\n",
    "        for j in range(0,i):\n",
    "            string += chr(96+size-j)\n",
    "            if len(string) < width :\n",
    "                string += '-'\n",
    "        for k in range(i-1,0,-1):\n",
    "            string += chr(97+size-k)\n",
    "            if len(string) < width :\n",
    "                string += '-'\n",
    "        print(string.center(width,'-'))\n",
    "\n",
    "if __name__ == '__main__':\n",
    "    n = int(input())\n",
    "    print_rangoli(n)"
   ]
  },
  {
   "cell_type": "markdown",
   "id": "c7af0d7b",
   "metadata": {},
   "source": [
    "## Que.12  The Minion Game"
   ]
  },
  {
   "cell_type": "code",
   "execution_count": 20,
   "id": "96c22d09",
   "metadata": {},
   "outputs": [
    {
     "name": "stdout",
     "output_type": "stream",
     "text": [
      "BANANA\n",
      "Stuart 12\n"
     ]
    }
   ],
   "source": [
    "def minion_game(string):\n",
    "    player1 = 0;\n",
    "    player2 = 0;\n",
    "    str_len = len(string)\n",
    "    for i in range(str_len):\n",
    "        if s[i] in \"AEIOU\":\n",
    "            player1 += (str_len)-i\n",
    "        else :\n",
    "            player2 += (str_len)-i\n",
    "    \n",
    "    if player1 > player2:\n",
    "        print(\"Kevin\", player1)\n",
    "    elif player1 < player2:\n",
    "        print(\"Stuart\",player2)\n",
    "    elif player1 == player2:\n",
    "        print(\"Draw\")\n",
    "    else :\n",
    "        print(\"Draw\")\n",
    "\n",
    "if __name__ == '__main__':\n",
    "    s = input()\n",
    "    minion_game(s)"
   ]
  },
  {
   "cell_type": "markdown",
   "id": "7a08c4f0",
   "metadata": {},
   "source": [
    "## Que.13  Merge the Tools!"
   ]
  },
  {
   "cell_type": "code",
   "execution_count": 21,
   "id": "dbe49170",
   "metadata": {},
   "outputs": [
    {
     "name": "stdout",
     "output_type": "stream",
     "text": [
      "AABCAAADA\n",
      "3\n",
      "AB\n",
      "CA\n",
      "AD\n"
     ]
    }
   ],
   "source": [
    "from collections import OrderedDict\n",
    "def merge_the_tools(string, k):\n",
    "    strlen = len(string)\n",
    "    for i in range(0,strlen,k):\n",
    "        print(''.join(OrderedDict.fromkeys(string[i:i + k])))\n",
    "\n",
    "if __name__ == '__main__':\n",
    "    string, k = input(), int(input())\n",
    "    merge_the_tools(string, k)"
   ]
  }
 ],
 "metadata": {
  "kernelspec": {
   "display_name": "Python 3 (ipykernel)",
   "language": "python",
   "name": "python3"
  },
  "language_info": {
   "codemirror_mode": {
    "name": "ipython",
    "version": 3
   },
   "file_extension": ".py",
   "mimetype": "text/x-python",
   "name": "python",
   "nbconvert_exporter": "python",
   "pygments_lexer": "ipython3",
   "version": "3.9.7"
  }
 },
 "nbformat": 4,
 "nbformat_minor": 5
}
