{
 "cells": [
  {
   "cell_type": "markdown",
   "id": "1a7a92df",
   "metadata": {},
   "source": [
    "### 1 List Comprehension"
   ]
  },
  {
   "cell_type": "code",
   "execution_count": 2,
   "id": "2935a2fd",
   "metadata": {},
   "outputs": [
    {
     "name": "stdout",
     "output_type": "stream",
     "text": [
      "1\n",
      "1\n",
      "1\n",
      "2\n",
      "[[0, 0, 0], [0, 0, 1], [0, 1, 0], [1, 0, 0], [1, 1, 1]]\n"
     ]
    }
   ],
   "source": [
    "x,y,z,n = [int(input()) for i in range(4)]\n",
    "print([[i,j,k] for i in range(x+1) for j in range(y+1) for k in range(z+1) if ((i+j+k) != n)])"
   ]
  },
  {
   "cell_type": "markdown",
   "id": "ba2a468d",
   "metadata": {},
   "source": [
    "### 2 Find the runup score"
   ]
  },
  {
   "cell_type": "code",
   "execution_count": 3,
   "id": "9987f041",
   "metadata": {},
   "outputs": [
    {
     "name": "stdout",
     "output_type": "stream",
     "text": [
      "5\n",
      "2 3 6 6 5\n",
      "5\n"
     ]
    }
   ],
   "source": [
    "if __name__ == '__main__':\n",
    "    n = int(input())\n",
    "    arr = list(map(int, input().split()))\n",
    "    arr.sort(reverse=True)\n",
    "   \n",
    "    for i in range(len(arr)):\n",
    "        if arr[i]!=arr[i+1]:\n",
    "            break\n",
    "        else:\n",
    "            continue\n",
    "    print(arr[i+1])\n"
   ]
  },
  {
   "cell_type": "markdown",
   "id": "aaadcd17",
   "metadata": {},
   "source": [
    "### 3 Nested list"
   ]
  },
  {
   "cell_type": "code",
   "execution_count": null,
   "id": "37ed8d66",
   "metadata": {},
   "outputs": [],
   "source": []
  },
  {
   "cell_type": "code",
   "execution_count": 1,
   "id": "a9dffc8f",
   "metadata": {},
   "outputs": [
    {
     "name": "stdout",
     "output_type": "stream",
     "text": [
      "5\n",
      "Harry\n",
      "37.21\n",
      "Berry\n",
      "37.21\n",
      "Tina\n",
      "37.2\n",
      "Akriti\n",
      "41\n",
      "Harsh\n",
      "39\n",
      "Berry\n",
      "Harry\n"
     ]
    }
   ],
   "source": [
    "records = [[input(),float(input())] for i in range(int(input()))]\n",
    "second_highest = sorted(set(j for i,j in records))[1]\n",
    "print(\"\\n\".join(sorted(i for i,j in records if j==second_highest)))\n"
   ]
  },
  {
   "cell_type": "markdown",
   "id": "4b14914a",
   "metadata": {},
   "source": [
    "### 4 Finding the percentage"
   ]
  },
  {
   "cell_type": "code",
   "execution_count": 2,
   "id": "91124156",
   "metadata": {},
   "outputs": [
    {
     "name": "stdout",
     "output_type": "stream",
     "text": [
      "3\n",
      "Krishna 67 68 69\n",
      "Arjun 70 98 63\n",
      "Malika 52 56 60\n",
      "Malika\n",
      "56.00\n"
     ]
    }
   ],
   "source": [
    "if __name__ == '__main__':\n",
    "    n = int(input())\n",
    "    student_marks = {}\n",
    "    for _ in range(n):\n",
    "        name, *line = input().split()\n",
    "        scores = list(map(float, line))\n",
    "        student_marks[name] = scores\n",
    "    query_name = input()\n",
    "output = list(student_marks[query_name])    \n",
    "per = sum(output)/len(output);\n",
    "print(\"%.2f\" % per);    "
   ]
  },
  {
   "cell_type": "markdown",
   "id": "d430b377",
   "metadata": {},
   "source": [
    "### 5 Lists"
   ]
  },
  {
   "cell_type": "code",
   "execution_count": 3,
   "id": "397a30b8",
   "metadata": {},
   "outputs": [
    {
     "name": "stdout",
     "output_type": "stream",
     "text": [
      "12\n",
      "insert 0 5\n",
      "insert 1 10\n",
      "insert 0 6\n",
      "print\n",
      "[6, 5, 10]\n",
      "remove 6\n",
      "append 9\n",
      "append 1\n",
      "sort\n",
      "print\n",
      "[1, 5, 9, 10]\n",
      "pop\n",
      "reverse\n",
      "print\n",
      "[9, 5, 1]\n"
     ]
    }
   ],
   "source": [
    "if __name__ == '__main__':\n",
    "    N = int(input())\n",
    "    l=[]\n",
    "    for i in range(N):\n",
    "        c=input().split()\n",
    "        cmd=c[0]\n",
    "        \n",
    "        \n",
    "        if cmd==\"insert\":\n",
    "            l.insert(int(c[1]),int(c[2]))\n",
    "        if cmd==\"print\":\n",
    "            print(l)\n",
    "        if cmd==\"remove\":\n",
    "            l.remove(int(c[1]))\n",
    "        if cmd==\"sort\":\n",
    "            l.sort()\n",
    "        if cmd==\"pop\":\n",
    "            l.pop()\n",
    "        if cmd==\"append\":\n",
    "            l.append(int(c[1]))\n",
    "        if cmd==\"reverse\":\n",
    "            l.reverse()\n"
   ]
  },
  {
   "cell_type": "markdown",
   "id": "e4dbcf28",
   "metadata": {},
   "source": [
    "### 6 Tuples"
   ]
  },
  {
   "cell_type": "code",
   "execution_count": 6,
   "id": "23f01748",
   "metadata": {},
   "outputs": [
    {
     "name": "stdout",
     "output_type": "stream",
     "text": [
      "2\n",
      "1 2\n",
      "-3550055125485641917\n"
     ]
    }
   ],
   "source": [
    "if __name__ == '__main__':\n",
    "    n = int(input())\n",
    "    integer_list = map(int, input().split())\n",
    "    tup = ()\n",
    "    for x in integer_list:\n",
    "        tup+=(x,)\n",
    "    \n",
    "    print(hash(tup))\n"
   ]
  },
  {
   "cell_type": "markdown",
   "id": "a1d3deec",
   "metadata": {},
   "source": [
    "### 7 Introduction to sets"
   ]
  },
  {
   "cell_type": "code",
   "execution_count": 3,
   "id": "1505f48e",
   "metadata": {},
   "outputs": [
    {
     "name": "stdout",
     "output_type": "stream",
     "text": [
      "10\n",
      "161 182 161 154 176 170 167 171 170 174\n",
      "169.375\n"
     ]
    }
   ],
   "source": [
    "#Itroduction to Sets - Python Hackerrank Solution\n",
    "def average(array):\n",
    "    # your code goes here\n",
    "    return float(sum(set(array))/len(set(array)))\n",
    "#Itroduction to Sets - Python Hackerrank Solution\n",
    "if __name__ == '__main__':\n",
    "    n = int(input())\n",
    "    arr = list(map(int, input().split()))\n",
    "    result = average(arr)\n",
    "    print(result)"
   ]
  },
  {
   "cell_type": "markdown",
   "id": "7bc113d0",
   "metadata": {},
   "source": [
    "### 8 No idea"
   ]
  },
  {
   "cell_type": "code",
   "execution_count": 4,
   "id": "2b38069c",
   "metadata": {},
   "outputs": [
    {
     "name": "stdout",
     "output_type": "stream",
     "text": [
      "3 2\n",
      "1 5 3 \n",
      "3 1\n",
      "5 7\n",
      "1\n"
     ]
    }
   ],
   "source": [
    "n,m=map(int,input().split())\n",
    "#take input elements list\n",
    "c=list(map(int,input().split()))\n",
    "A=set(map(int,input().split()))\n",
    "B=set(map(int,input().split()))\n",
    "#intially count as 0\n",
    "count=0\n",
    "for i in c:\n",
    "    if i in A:\n",
    "        count+=1\n",
    "    if i in B:\n",
    "        count-=1\n",
    "print(count)\n"
   ]
  },
  {
   "cell_type": "markdown",
   "id": "f7f0ef7a",
   "metadata": {},
   "source": [
    "### 9 Symmetric Difference"
   ]
  },
  {
   "cell_type": "code",
   "execution_count": 5,
   "id": "c1fb7741",
   "metadata": {},
   "outputs": [
    {
     "name": "stdout",
     "output_type": "stream",
     "text": [
      "4\n",
      "2 4 5 9\n",
      "4\n",
      "2 4 11 12\n",
      "5\n",
      "9\n",
      "11\n",
      "12\n"
     ]
    }
   ],
   "source": [
    "if __name__ == \"__main__\":\n",
    "    M = int(input().strip())\n",
    "    set_m = set(map(int, input().strip().split(' ')))\n",
    "    \n",
    "    N = int(input().strip())\n",
    "    set_n = set(map(int, input().strip().split(' ')))\n",
    "    \n",
    "    for j in sorted(set_m ^ set_n):\n",
    "        print(j)"
   ]
  },
  {
   "cell_type": "markdown",
   "id": "53315fc5",
   "metadata": {},
   "source": [
    "### 10 Set .add()"
   ]
  },
  {
   "cell_type": "code",
   "execution_count": 6,
   "id": "3188d537",
   "metadata": {},
   "outputs": [
    {
     "name": "stdout",
     "output_type": "stream",
     "text": [
      "7\n",
      "UK\n",
      "China\n",
      "USA\n",
      "France\n",
      "New Zealand\n",
      "UK\n",
      "France\n",
      "5\n"
     ]
    }
   ],
   "source": [
    "N=int(input())\n",
    "A=set()\n",
    "for i in range(N):\n",
    "    A.add(input())\n",
    "print(len(A))    \n"
   ]
  },
  {
   "cell_type": "markdown",
   "id": "42a22c62",
   "metadata": {},
   "source": [
    "### 11 Set.discord(),.remove() &.pop()"
   ]
  },
  {
   "cell_type": "code",
   "execution_count": 7,
   "id": "7c49084a",
   "metadata": {},
   "outputs": [
    {
     "name": "stdout",
     "output_type": "stream",
     "text": [
      "9\n",
      "1 2 3 4 5 6 7 8 9\n",
      "10\n",
      "pop\n",
      "remove 9\n",
      "discard 9\n",
      "discard 8\n",
      "remove 7\n",
      "pop\n",
      "discard 6\n",
      "remove 5\n",
      "pop\n",
      "discard 5\n",
      "4\n"
     ]
    }
   ],
   "source": [
    "n = int(input())\n",
    "s = set(map(int, input().split())) # Set of n elements\n",
    "for i in range(int(input())): # Iterate in range of the input num\n",
    "    s1 = input().split()\n",
    "    if s1[0] == 'pop':\n",
    "        s.pop()\n",
    "    elif s1[0] == 'remove':\n",
    "        s.remove(int(s1[1]))\n",
    "    elif s1[0] == 'discard':\n",
    "        s.discard(int(s1[1]))\n",
    "print(sum(s))"
   ]
  },
  {
   "cell_type": "markdown",
   "id": "ab66f24f",
   "metadata": {},
   "source": [
    "### 12 Set.union() operation"
   ]
  },
  {
   "cell_type": "code",
   "execution_count": 8,
   "id": "6101bda0",
   "metadata": {},
   "outputs": [
    {
     "name": "stdout",
     "output_type": "stream",
     "text": [
      "9\n",
      "1 2 3 4 5 6 7 8 9\n",
      "9\n",
      "10 1 2 3 11 21 55 6 8\n",
      "13\n"
     ]
    }
   ],
   "source": [
    "# Set .union() Operation hackerrank solution\n",
    "# Enter your code here. Read input from STDIN. Print output to STDOUT\n",
    "n=int(input())\n",
    "s=set(map(int,input().split()))\n",
    "m=int(input())\n",
    "r=set(map(int,input().split()))\n",
    "print(len(s.union(r)))\n",
    "# Set .union() Operation hackerrank solution\n"
   ]
  },
  {
   "cell_type": "markdown",
   "id": "041c183b",
   "metadata": {},
   "source": [
    "### 13 Set.intersection() Operation"
   ]
  },
  {
   "cell_type": "code",
   "execution_count": 9,
   "id": "997206e0",
   "metadata": {},
   "outputs": [
    {
     "name": "stdout",
     "output_type": "stream",
     "text": [
      "9\n",
      "1 2 3 4 5 6 7 8 9 \n",
      "9\n",
      "10 1 2 3 11 21 55 6 8\n",
      "5\n"
     ]
    }
   ],
   "source": [
    "_ = int(input())\n",
    "SET_N = set(map(int, input().split()))\n",
    "_ = int(input())\n",
    "SET_B = set(map(int, input().split()))\n",
    "NEW_SET = SET_N.intersection(SET_B)\n",
    "print(len(NEW_SET))\n"
   ]
  },
  {
   "cell_type": "markdown",
   "id": "c0339bcc",
   "metadata": {},
   "source": [
    "### 14 Set.symmetric_difference()operation"
   ]
  },
  {
   "cell_type": "code",
   "execution_count": 10,
   "id": "f68f0ff4",
   "metadata": {},
   "outputs": [
    {
     "name": "stdout",
     "output_type": "stream",
     "text": [
      "9\n",
      "1 2 3 4 5 6 7 8 9\n",
      "9\n",
      "10 1 2 3 11 21 55 6 8\n",
      "8\n"
     ]
    }
   ],
   "source": [
    "_ = int(input())\n",
    "SET_N = set(map(int, input().split()))\n",
    "\n",
    "_ = int(input())\n",
    "SET_B = set(map(int, input().split()))\n",
    "\n",
    "NEW_SET = SET_N.symmetric_difference(SET_B)\n",
    "print(len(NEW_SET))"
   ]
  },
  {
   "cell_type": "markdown",
   "id": "e3e1c909",
   "metadata": {},
   "source": [
    "### 15 Set mutation"
   ]
  },
  {
   "cell_type": "code",
   "execution_count": 12,
   "id": "222216a7",
   "metadata": {},
   "outputs": [
    {
     "name": "stdout",
     "output_type": "stream",
     "text": [
      "16\n",
      "1 2 3 4 5 6 7 8 9 10 11 12 13 14 24 52\n",
      "4\n",
      "intersection_update 10\n",
      "2 3 5 6 8 9 1 4 7 11\n",
      "update 2\n",
      "55 66\n",
      "symmetric_difference_update 5\n",
      "22 7 35 62 58\n",
      "difference_update 7\n",
      "11 22 35 55 58 62 66\n",
      "38\n"
     ]
    }
   ],
   "source": [
    "(n, A) = (int(input()), set(input().split()))\n",
    "n = int(input())\n",
    "for _ in range(n):\n",
    "    ((s, i), B) = (input().split(), set(input().split()))\n",
    "    getattr(A, s)(B)\n",
    "print(sum(map(int,list(A))))\n",
    "#Set Mutations - Hackerrank Solution Python\n"
   ]
  },
  {
   "cell_type": "markdown",
   "id": "c7fb03f2",
   "metadata": {},
   "source": [
    "### 16 The Captain's Room"
   ]
  },
  {
   "cell_type": "code",
   "execution_count": 13,
   "id": "5bf3473c",
   "metadata": {},
   "outputs": [
    {
     "name": "stdout",
     "output_type": "stream",
     "text": [
      "5\n",
      "1 2 3 6 5 4 4 2 5 3 6 1 6 5 3 2 4 1 2 5 1 4 3 6 8 4 3 1 5 6 2\n",
      "8\n"
     ]
    }
   ],
   "source": [
    "from collections import Counter\n",
    "k = int(input())\n",
    "arr = list(map(int,input().split()))\n",
    "print({v:k for k,v in Counter(arr).items()}[1])"
   ]
  },
  {
   "cell_type": "markdown",
   "id": "9e7e9955",
   "metadata": {},
   "source": [
    "### 17 Check subset"
   ]
  },
  {
   "cell_type": "code",
   "execution_count": 1,
   "id": "b9c003c7",
   "metadata": {},
   "outputs": [
    {
     "name": "stdout",
     "output_type": "stream",
     "text": [
      "3\n",
      "5\n",
      "1 2 3 5 6\n",
      "9\n",
      "9 8 5 6 3 2 1 4 7\n",
      "True\n",
      "1\n",
      "2\n",
      "5\n",
      "3 6 5 4 1\n",
      "False\n",
      "7\n",
      "1 2 3 5 6 8 9\n",
      "3\n",
      "9 8 2\n",
      "False\n"
     ]
    }
   ],
   "source": [
    "T = int(input())\n",
    "\n",
    "for _ in range(T):\n",
    "    a = input()\n",
    "    A = set(input().split())\n",
    "    b = int(input())\n",
    "    B = set(input().split())\n",
    "    print(A.issubset(B))"
   ]
  },
  {
   "cell_type": "markdown",
   "id": "938057d7",
   "metadata": {},
   "source": [
    "### 18 check strict superset"
   ]
  },
  {
   "cell_type": "code",
   "execution_count": 2,
   "id": "084133c0",
   "metadata": {},
   "outputs": [
    {
     "name": "stdout",
     "output_type": "stream",
     "text": [
      "1 2 3 4 5 6 7 8 9 10 11 12 23 45 84 78\n",
      "2\n",
      "1 2 3 4 5\n",
      "100 11 12\n",
      "False\n"
     ]
    }
   ],
   "source": [
    "A=set(map(int,input().split()))\n",
    "n= int(input())\n",
    "status=True\n",
    "for i in range(n):\n",
    "    B=set(map(int,input().split()))\n",
    "    if  (B&A !=B) or (B==A):\n",
    "        status=False\n",
    "        break\n",
    "print(status)"
   ]
  },
  {
   "cell_type": "code",
   "execution_count": null,
   "id": "6b25ceaa",
   "metadata": {},
   "outputs": [],
   "source": []
  },
  {
   "cell_type": "code",
   "execution_count": null,
   "id": "a3779da6",
   "metadata": {},
   "outputs": [],
   "source": []
  },
  {
   "cell_type": "code",
   "execution_count": null,
   "id": "5c6a5aa9",
   "metadata": {},
   "outputs": [],
   "source": []
  }
 ],
 "metadata": {
  "kernelspec": {
   "display_name": "Python 3 (ipykernel)",
   "language": "python",
   "name": "python3"
  },
  "language_info": {
   "codemirror_mode": {
    "name": "ipython",
    "version": 3
   },
   "file_extension": ".py",
   "mimetype": "text/x-python",
   "name": "python",
   "nbconvert_exporter": "python",
   "pygments_lexer": "ipython3",
   "version": "3.9.7"
  }
 },
 "nbformat": 4,
 "nbformat_minor": 5
}
