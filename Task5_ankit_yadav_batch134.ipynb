{
 "cells": [
  {
   "cell_type": "markdown",
   "id": "1924fa38",
   "metadata": {},
   "source": [
    "### Deticting floating point Number"
   ]
  },
  {
   "cell_type": "code",
   "execution_count": 1,
   "id": "65598532",
   "metadata": {},
   "outputs": [
    {
     "name": "stdout",
     "output_type": "stream",
     "text": [
      "4\n",
      "4.000\n",
      "True\n",
      "-1.00\n",
      "True\n",
      "+4.54\n",
      "True\n",
      "SomeRandomStuff\n",
      "False\n"
     ]
    }
   ],
   "source": [
    "from re import match, compile\n",
    "\n",
    "pattern = compile('^[-+]?[0-9]*\\.[0-9]+$')\n",
    "for _ in range(int(input())):\n",
    "    print(bool(pattern.match(input())))\n"
   ]
  },
  {
   "cell_type": "markdown",
   "id": "e6540b80",
   "metadata": {},
   "source": [
    "### Re.split()"
   ]
  },
  {
   "cell_type": "code",
   "execution_count": 2,
   "id": "a3052d68",
   "metadata": {},
   "outputs": [
    {
     "name": "stdout",
     "output_type": "stream",
     "text": [
      "100,000,000.000\n",
      "100\n",
      "000\n",
      "000\n",
      "000\n"
     ]
    }
   ],
   "source": [
    "regex_pattern = r\"[.,]\"    \n",
    "import re\n",
    "print(\"\\n\".join(re.split(regex_pattern, input())))"
   ]
  },
  {
   "cell_type": "markdown",
   "id": "de9d3727",
   "metadata": {},
   "source": [
    "### Group(),Groups()&Groupdict()"
   ]
  },
  {
   "cell_type": "code",
   "execution_count": 3,
   "id": "6f67e98f",
   "metadata": {},
   "outputs": [
    {
     "name": "stdout",
     "output_type": "stream",
     "text": [
      "..12345678910111213141516171820212223\n",
      "1\n"
     ]
    }
   ],
   "source": [
    "import re\n",
    "\n",
    "m = re.search(r'([a-zA-Z0-9])\\1', input().strip())\n",
    "print(m.group(1) if m else -1)\n"
   ]
  },
  {
   "cell_type": "markdown",
   "id": "907cd8d3",
   "metadata": {},
   "source": [
    "### Re.findall & Re.finditer()"
   ]
  },
  {
   "cell_type": "code",
   "execution_count": 4,
   "id": "81f78ec6",
   "metadata": {},
   "outputs": [
    {
     "name": "stdout",
     "output_type": "stream",
     "text": [
      "rabcdeefgYhFjkIoomnpOeorteeeeet\n",
      "ee\n",
      "Ioo\n",
      "Oeo\n",
      "eeeee\n"
     ]
    }
   ],
   "source": [
    "import re\n",
    "v = \"aeiou\"\n",
    "c = \"qwrtypsdfghjklzxcvbnm\"\n",
    "m = re.findall(r\"(?<=[%s])([%s]{2,})[%s]\" % (c, v, c), input(), flags = re.I)\n",
    "print('\\n'.join(m or ['-1']))\n"
   ]
  },
  {
   "cell_type": "markdown",
   "id": "89398ba7",
   "metadata": {},
   "source": [
    "### Re.start()  Re.end()"
   ]
  },
  {
   "cell_type": "code",
   "execution_count": 5,
   "id": "e7570539",
   "metadata": {},
   "outputs": [
    {
     "name": "stdout",
     "output_type": "stream",
     "text": [
      "aaadaa\n",
      "aa\n",
      "(0, 1)\n",
      "(1, 2)\n",
      "(4, 5)\n"
     ]
    }
   ],
   "source": [
    "import re\n",
    "S=input()\n",
    "k=input()\n",
    "m=re.finditer(r'(?=(' + k + '))',S)\n",
    "\n",
    "match=False\n",
    "for i in m:\n",
    "    match=True\n",
    "    print((i.start(1),i.end(1)-1))\n",
    "if match==False:\n",
    "    print((-1,-1))\n"
   ]
  },
  {
   "cell_type": "markdown",
   "id": "81898ddc",
   "metadata": {},
   "source": [
    "### Regex Substitution"
   ]
  },
  {
   "cell_type": "code",
   "execution_count": 9,
   "id": "ce0bc66f",
   "metadata": {
    "scrolled": true
   },
   "outputs": [
    {
     "name": "stdout",
     "output_type": "stream",
     "text": [
      "11 a = 1; b = input();  if a + b > 0 && a - b < 0:     start() elif a*b > 10 || a/b < 1:     stop() print set(list(a)) | set(list(b))  #Note do not change &&& or ||| or & or | #Only change those '&&' which have space on both sides. #Only change those '|| which have space on both sides.\n",
      "\n"
     ]
    }
   ],
   "source": [
    "from sys import stdin\n",
    "import re\n",
    "n = input()\n",
    "print(re.sub( r\"(?<= )(&&|\\|\\|)(?= )\", lambda x: \"and\" if x.group()==\"&&\" else \"or\", stdin.read()))"
   ]
  },
  {
   "cell_type": "markdown",
   "id": "b1a0e352",
   "metadata": {},
   "source": [
    "### Validating Roman Numerals"
   ]
  },
  {
   "cell_type": "code",
   "execution_count": 10,
   "id": "29b3d664",
   "metadata": {},
   "outputs": [
    {
     "name": "stdout",
     "output_type": "stream",
     "text": [
      "CDXXI\n",
      "True\n"
     ]
    }
   ],
   "source": [
    "regex_pattern = r\"M{0,3}(C[MD]|D?C{0,3})(X[CL]|L?X{0,3})(I[VX]|V?I{0,3})$\"    # Do not delete 'r'.\n",
    "\n",
    "\n",
    "#Validating Roman Numerals\n",
    "\n",
    "import re\n",
    "print(str(bool(re.match(regex_pattern, input()))))"
   ]
  },
  {
   "cell_type": "markdown",
   "id": "6ec0e6ea",
   "metadata": {},
   "source": [
    "### Validating Phone numbers"
   ]
  },
  {
   "cell_type": "code",
   "execution_count": 11,
   "id": "a1e956ed",
   "metadata": {},
   "outputs": [
    {
     "name": "stdout",
     "output_type": "stream",
     "text": [
      "2\n",
      "9587456281\n",
      "YES\n",
      "1253478965\n",
      "NO\n"
     ]
    }
   ],
   "source": [
    "import re\n",
    "\n",
    "N=int(input())\n",
    "for i in range(N):\n",
    "    if re.match(r'^[789]\\d{9}$',input()):\n",
    "        print(\"YES\")\n",
    "    else:\n",
    "        print(\"NO\")\n"
   ]
  },
  {
   "cell_type": "markdown",
   "id": "6a6002c4",
   "metadata": {},
   "source": [
    "### Validating and Parsing Email Address"
   ]
  },
  {
   "cell_type": "code",
   "execution_count": 12,
   "id": "1d337229",
   "metadata": {},
   "outputs": [
    {
     "name": "stdout",
     "output_type": "stream",
     "text": [
      "2\n",
      "DEXTER <dexter@hotmail.com>\n",
      "DEXTER <dexter@hotmail.com>\n",
      "VIRUS <virus!@variable.:p>\n"
     ]
    }
   ],
   "source": [
    "import re\n",
    "\n",
    "N = int(input())\n",
    "\n",
    "for i in range(N):\n",
    "    name, email = input().split()\n",
    "    pattern=\"<[a-z][a-zA-Z0-9\\-\\.\\_]+@[a-zA-Z]+\\.[a-zA-Z]{1,3}>\"\n",
    "    if bool(re.match(pattern, email)):\n",
    "        print(name,email)"
   ]
  },
  {
   "cell_type": "markdown",
   "id": "edd0200f",
   "metadata": {},
   "source": [
    "#  HTML Parser - Part1"
   ]
  },
  {
   "cell_type": "code",
   "execution_count": 19,
   "id": "a9410809",
   "metadata": {},
   "outputs": [
    {
     "name": "stdout",
     "output_type": "stream",
     "text": [
      "2\n",
      "<html><head><title>HTML Parser - I</title></head>\n",
      "Start : html\n",
      "Start : head\n",
      "Start : title\n",
      "End   : title\n",
      "End   : head\n",
      "<body data-modal-target class='1'><h1>HackerRank</h1><br /></body></html>\n",
      "Start : body\n",
      "-> data-modal-target > None\n",
      "-> class > 1\n",
      "Start : h1\n",
      "End   : h1\n",
      "Empty : br\n",
      "End   : body\n",
      "End   : html\n"
     ]
    }
   ],
   "source": [
    "from html.parser import HTMLParser\n",
    "\n",
    "class MyHTMLParser(HTMLParser):\n",
    "    def handle_starttag(self, tag, attrs):\n",
    "        print ('Start :', tag)\n",
    "        for ele in attrs:\n",
    "            print ('->', ele[0], '>', ele[1])\n",
    "    def handle_endtag(self, tag):\n",
    "        print ('End   :', tag)\n",
    "    def handle_startendtag(self, tag, attrs):\n",
    "        print ('Empty :', tag)\n",
    "        for ele in attrs:\n",
    "            print ('->', ele[0], '>', ele[1])\n",
    "parser = MyHTMLParser()\n",
    "for _ in range(int(input())):\n",
    "    parser.feed(input())\n"
   ]
  },
  {
   "cell_type": "markdown",
   "id": "9a66bfa3",
   "metadata": {},
   "source": [
    "### HTML Parser -Part2"
   ]
  },
  {
   "cell_type": "code",
   "execution_count": 20,
   "id": "93077b68",
   "metadata": {},
   "outputs": [
    {
     "name": "stderr",
     "output_type": "stream",
     "text": [
      "<>:7: SyntaxWarning: \"is not\" with a literal. Did you mean \"!=\"?\n",
      "<>:7: SyntaxWarning: \"is not\" with a literal. Did you mean \"!=\"?\n",
      "C:\\Users\\Kamal\\AppData\\Local\\Temp/ipykernel_2624/1856359758.py:7: SyntaxWarning: \"is not\" with a literal. Did you mean \"!=\"?\n",
      "  if data is not '\\n':\n"
     ]
    },
    {
     "name": "stdout",
     "output_type": "stream",
     "text": [
      "4\n",
      "<!--[if IE 9]>IE9-specific content\n",
      "<![endif]-->\n",
      "<div> Welcome to HackerRank</div>\n",
      "<!--[if IE 9]>IE9-specific content<![endif]-->\n",
      ">>> Multi-line Comment\n",
      "[if IE 9]>IE9-specific content\n",
      "<![endif]\n",
      ">>> Data\n",
      " Welcome to HackerRank\n",
      ">>> Single-line Comment\n",
      "[if IE 9]>IE9-specific content<![endif]\n"
     ]
    }
   ],
   "source": [
    "from html.parser import HTMLParser\n",
    "class MyHTMLParser(HTMLParser):\n",
    "    def handle_comment(self, data):\n",
    "        prefix = '\\n' in data and 'Multi-line Comment' or 'Single-line Comment'\n",
    "        print('>>> {0}\\n{1}'.format(prefix, data))\n",
    "    def handle_data(self, data):\n",
    "        if data is not '\\n':\n",
    "            print('>>> Data\\n{0}'.format(data))\n",
    "html = \"\"\n",
    "for i in range(int(input())):\n",
    "    html += input().rstrip()\n",
    "    html += '\\n'\n",
    "parser = MyHTMLParser()\n",
    "parser.feed(html)\n",
    "parser.close()"
   ]
  },
  {
   "cell_type": "markdown",
   "id": "d65d0d1f",
   "metadata": {},
   "source": [
    "### Detect HTML Tags, Attributes and Attribute Values"
   ]
  },
  {
   "cell_type": "code",
   "execution_count": 21,
   "id": "59ced884",
   "metadata": {},
   "outputs": [
    {
     "name": "stdout",
     "output_type": "stream",
     "text": [
      "9\n",
      "<head>\n",
      "<title>HTML</title>\n",
      "</head>\n",
      "<object type=\"application/x-flash\" \n",
      "data=\"your-file.swf\" \n",
      " width=\"0\" height=\"0\">\n",
      " <!-- <param name=\"movie\" value=\"your-file.swf\" /> -->\n",
      "<param name=\"quality\" value=\"high\"/>\n",
      "</object>\n",
      "head\n",
      "title\n",
      "object\n",
      "-> type > application/x-flash\n",
      "-> data > your-file.swf\n",
      "-> width > 0\n",
      "-> height > 0\n",
      "param\n",
      "-> name > quality\n",
      "-> value > high\n"
     ]
    }
   ],
   "source": [
    "from html.parser import HTMLParser\n",
    "\n",
    "class MyHTMLParser(HTMLParser):\n",
    "    def handle_starttag(self, tag, attrs):\n",
    "        print(tag)\n",
    "        [print('-> {} > {}'.format(*attr)) for attr in attrs]\n",
    "html = '\\n'.join([input() for _ in range(int(input()))])\n",
    "parser = MyHTMLParser()\n",
    "parser.feed(html)\n",
    "parser.close()"
   ]
  },
  {
   "cell_type": "markdown",
   "id": "446e68c5",
   "metadata": {},
   "source": [
    "### Validating UID "
   ]
  },
  {
   "cell_type": "code",
   "execution_count": 22,
   "id": "c4b66bf4",
   "metadata": {},
   "outputs": [
    {
     "name": "stdout",
     "output_type": "stream",
     "text": [
      "2\n",
      "B1CD102354\n",
      "Invalid\n",
      "B1CDEF2354\n",
      "Valid\n"
     ]
    }
   ],
   "source": [
    "import re\n",
    "\n",
    "for _ in range(int(input())):\n",
    "    u = ''.join(sorted(input()))\n",
    "    try:\n",
    "        assert re.search(r'[A-Z]{2}', u)\n",
    "        assert re.search(r'\\d\\d\\d', u)\n",
    "        assert not re.search(r'[^a-zA-Z0-9]', u)\n",
    "        assert not re.search(r'(.)\\1', u)\n",
    "        assert len(u) == 10\n",
    "    except:\n",
    "        print('Invalid')\n",
    "    else:\n",
    "        print('Valid')\n"
   ]
  },
  {
   "cell_type": "markdown",
   "id": "29a43ca3",
   "metadata": {},
   "source": [
    "### Validating credit card numbers"
   ]
  },
  {
   "cell_type": "code",
   "execution_count": 23,
   "id": "11a0f236",
   "metadata": {},
   "outputs": [
    {
     "name": "stdout",
     "output_type": "stream",
     "text": [
      "6\n",
      "4123456789123456\n",
      "Valid\n",
      "5123-4567-8912-3456\n",
      "Valid\n",
      "61234-567-8912-3456\n",
      "Invalid\n",
      "4123356789123456\n",
      "Valid\n",
      "5133-3367-8912-3456\n",
      "Invalid\n",
      "5123 - 3567 - 8912 - 3456\n",
      "Invalid\n"
     ]
    }
   ],
   "source": [
    "import re\n",
    "n = int(input())\n",
    "for t in range(n):\n",
    "    credit = input().strip()\n",
    "    credit_removed_hiphen = credit.replace('-','')\n",
    "    valid = True\n",
    "    length_16 = bool(re.match(r'^[4-6]\\d{15}$',credit))\n",
    "    length_19 = bool(re.match(r'^[4-6]\\d{3}-\\d{4}-\\d{4}-\\d{4}$',credit))    \n",
    "    consecutive = bool(re.findall(r'(?=(\\d)\\1\\1\\1)',credit_removed_hiphen))\n",
    "    if length_16 == True or length_19 == True:\n",
    "        if consecutive == True:\n",
    "            valid=False\n",
    "    else:\n",
    "        valid = False       \n",
    "    if valid == True:\n",
    "        print('Valid')\n",
    "    else:\n",
    "        print('Invalid')"
   ]
  },
  {
   "cell_type": "markdown",
   "id": "f3be6bd2",
   "metadata": {},
   "source": [
    "### Validating Postal Codes"
   ]
  },
  {
   "cell_type": "code",
   "execution_count": 24,
   "id": "30530969",
   "metadata": {},
   "outputs": [
    {
     "name": "stdout",
     "output_type": "stream",
     "text": [
      "110000\n",
      "False\n"
     ]
    }
   ],
   "source": [
    "regex_integer_in_range = r\"^[1-9][\\d]{5}$\"    # Do not delete 'r'.\n",
    "regex_alternating_repetitive_digit_pair = r\"(\\d)(?=\\d\\1)\"    # Do not delete 'r'.\n",
    "\n",
    "\n",
    "import re\n",
    "P = input()\n",
    "\n",
    "print (bool(re.match(regex_integer_in_range, P)) \n",
    "and len(re.findall(regex_alternating_repetitive_digit_pair, P)) < 2)"
   ]
  },
  {
   "cell_type": "markdown",
   "id": "2d6e3d21",
   "metadata": {},
   "source": [
    "####  Matrix script"
   ]
  },
  {
   "cell_type": "code",
   "execution_count": 26,
   "id": "1a6c0f32",
   "metadata": {},
   "outputs": [
    {
     "name": "stdout",
     "output_type": "stream",
     "text": [
      "7 3\n",
      "Tsi\n",
      "h%x\n",
      "i #\n",
      "sM \n",
      "$a \n",
      "#t%\n",
      "ir!\n",
      "This is Matrix#  %!\n"
     ]
    }
   ],
   "source": [
    "import re\n",
    "n, m = map(int,input().split())\n",
    "character_ar = [''] * (n*m)\n",
    "for i in range(n):\n",
    "    line = input()\n",
    "    for j in range(m):\n",
    "        character_ar[i+(j*n)]=line[j]\n",
    "decoded_str = ''.join(character_ar)\n",
    "final_decoded_str = re.sub(r'(?<=[A-Za-z0-9])([ !@#$%&]+)(?=[A-Za-z0-9])',' ',decoded_str)\n",
    "print(final_decoded_str) "
   ]
  },
  {
   "cell_type": "code",
   "execution_count": null,
   "id": "e803bf52",
   "metadata": {},
   "outputs": [],
   "source": []
  }
 ],
 "metadata": {
  "kernelspec": {
   "display_name": "Python 3 (ipykernel)",
   "language": "python",
   "name": "python3"
  },
  "language_info": {
   "codemirror_mode": {
    "name": "ipython",
    "version": 3
   },
   "file_extension": ".py",
   "mimetype": "text/x-python",
   "name": "python",
   "nbconvert_exporter": "python",
   "pygments_lexer": "ipython3",
   "version": "3.9.7"
  }
 },
 "nbformat": 4,
 "nbformat_minor": 5
}
