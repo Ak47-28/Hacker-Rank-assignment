{
 "cells": [
  {
   "cell_type": "markdown",
   "id": "f7fc9864",
   "metadata": {},
   "source": [
    "### Print Hello world"
   ]
  },
  {
   "cell_type": "code",
   "execution_count": 1,
   "id": "f871176b",
   "metadata": {},
   "outputs": [
    {
     "name": "stdout",
     "output_type": "stream",
     "text": [
      "Hello, World!\n"
     ]
    }
   ],
   "source": [
    "print(\"Hello, World!\")"
   ]
  },
  {
   "cell_type": "markdown",
   "id": "ea8ba7f5",
   "metadata": {},
   "source": [
    "### Q2 - Arithmetic operations"
   ]
  },
  {
   "cell_type": "code",
   "execution_count": 1,
   "id": "65fc41fb",
   "metadata": {},
   "outputs": [
    {
     "name": "stdout",
     "output_type": "stream",
     "text": [
      "3\n",
      "2\n",
      "5\n",
      "1\n",
      "6\n"
     ]
    }
   ],
   "source": [
    "a = int(input())\n",
    "b = int(input())\n",
    "print(a+b)\n",
    "print(a-b)\n",
    "print(a*b)"
   ]
  },
  {
   "cell_type": "markdown",
   "id": "93c17ae8",
   "metadata": {},
   "source": [
    "### Q3 - division"
   ]
  },
  {
   "cell_type": "code",
   "execution_count": 2,
   "id": "e6500ed3",
   "metadata": {},
   "outputs": [
    {
     "name": "stdout",
     "output_type": "stream",
     "text": [
      "3\n",
      "5\n",
      "0\n",
      "0.6\n"
     ]
    }
   ],
   "source": [
    "a = int(input())\n",
    "b = int(input())\n",
    "print(a//b)\n",
    "print(a/b)"
   ]
  },
  {
   "cell_type": "markdown",
   "id": "dc563849",
   "metadata": {},
   "source": [
    "### Q4 - Loop concept"
   ]
  },
  {
   "cell_type": "code",
   "execution_count": 3,
   "id": "15b6cbd7",
   "metadata": {},
   "outputs": [
    {
     "name": "stdout",
     "output_type": "stream",
     "text": [
      "5\n",
      "0\n",
      "1\n",
      "4\n",
      "9\n",
      "16\n"
     ]
    }
   ],
   "source": [
    "n = int(input())\n",
    "for i in range(n):\n",
    "    print(i**2)"
   ]
  },
  {
   "cell_type": "markdown",
   "id": "e5e38ae6",
   "metadata": {},
   "source": [
    "### Q5 - Write a function"
   ]
  },
  {
   "cell_type": "code",
   "execution_count": 4,
   "id": "907b8f8f",
   "metadata": {},
   "outputs": [
    {
     "name": "stdout",
     "output_type": "stream",
     "text": [
      "2000\n"
     ]
    },
    {
     "data": {
      "text/plain": [
       "True"
      ]
     },
     "execution_count": 4,
     "metadata": {},
     "output_type": "execute_result"
    }
   ],
   "source": [
    "def is_leap(year):\n",
    "    if (year%400 )== 0 or year%4 ==0 and year%100!= 0: \n",
    "        return True\n",
    "    else:\n",
    "        return False\n",
    "\n",
    "year = int(input())\n",
    "is_leap(year)\n"
   ]
  },
  {
   "cell_type": "markdown",
   "id": "1b8d7691",
   "metadata": {},
   "source": [
    "### Q6 - Print function"
   ]
  },
  {
   "cell_type": "code",
   "execution_count": 1,
   "id": "9253c54f",
   "metadata": {},
   "outputs": [
    {
     "name": "stdout",
     "output_type": "stream",
     "text": [
      "5\n",
      "12345"
     ]
    }
   ],
   "source": [
    "n = int(input())\n",
    "for i in range(1, n+1):\n",
    "    print(i, end=\"\")"
   ]
  },
  {
   "cell_type": "markdown",
   "id": "018b2eca",
   "metadata": {},
   "source": [
    "### Q7 - If-else"
   ]
  },
  {
   "cell_type": "code",
   "execution_count": 6,
   "id": "c40e39a6",
   "metadata": {},
   "outputs": [
    {
     "name": "stdout",
     "output_type": "stream",
     "text": [
      "24\n",
      "Not Weird\n"
     ]
    }
   ],
   "source": [
    "if __name__ == '__main__':\n",
    "    n = int(input().strip())\n",
    "if n % 2 == 0:\n",
    "    if n in range(2,6):\n",
    "        print(\"Not Weird\")\n",
    "\n",
    "    elif n in range(6,21):\n",
    "        print(\"Weird\")\n",
    "\n",
    "    elif n > 20:\n",
    "        print(\"Not Weird\")\n",
    "else:\n",
    "    print(\"Weird\")"
   ]
  },
  {
   "cell_type": "code",
   "execution_count": null,
   "id": "6432485c",
   "metadata": {},
   "outputs": [],
   "source": []
  }
 ],
 "metadata": {
  "kernelspec": {
   "display_name": "Python 3 (ipykernel)",
   "language": "python",
   "name": "python3"
  },
  "language_info": {
   "codemirror_mode": {
    "name": "ipython",
    "version": 3
   },
   "file_extension": ".py",
   "mimetype": "text/x-python",
   "name": "python",
   "nbconvert_exporter": "python",
   "pygments_lexer": "ipython3",
   "version": "3.9.7"
  }
 },
 "nbformat": 4,
 "nbformat_minor": 5
}
